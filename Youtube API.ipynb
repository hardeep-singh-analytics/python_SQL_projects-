{
 "cells": [
  {
   "cell_type": "markdown",
   "id": "94304fc0-26f9-4261-9091-fb15bbd0d58f",
   "metadata": {},
   "source": [
    "### Python script to calculate total duration of all the videos in a playlist of a youtube channel"
   ]
  },
  {
   "cell_type": "markdown",
   "id": "395df41b-8d18-4659-a795-288c88b0ec85",
   "metadata": {},
   "source": [
    "#### Importing necessary packages"
   ]
  },
  {
   "cell_type": "code",
   "execution_count": 48,
   "id": "b372ffcc-386c-465c-9e17-b99fa1508ccf",
   "metadata": {},
   "outputs": [],
   "source": [
    "import os\n",
    "from googleapiclient.discovery import build\n",
    "youtube_api_key = os.environ.get('youtube_api')\n",
    "import re\n",
    "from datetime import timedelta"
   ]
  },
  {
   "cell_type": "markdown",
   "id": "81499a9c-c35d-4db4-85cd-4347c226faed",
   "metadata": {},
   "source": [
    "#### Creating API service object using build() function"
   ]
  },
  {
   "cell_type": "code",
   "execution_count": 49,
   "id": "3808387e-e150-49e1-9987-16db22ed49c5",
   "metadata": {},
   "outputs": [],
   "source": [
    "youtube = build('youtube', 'v3', developerKey = youtube_api_key)"
   ]
  },
  {
   "cell_type": "markdown",
   "id": "259f769f-154b-4d20-91cb-9835fc3fa4ce",
   "metadata": {},
   "source": [
    "#### Getting channel id using channels() instance method"
   ]
  },
  {
   "cell_type": "code",
   "execution_count": 50,
   "id": "72c0027e-0b48-4bb0-bdfb-3a444c679482",
   "metadata": {},
   "outputs": [
    {
     "name": "stdout",
     "output_type": "stream",
     "text": [
      "{'kind': 'youtube#channelListResponse', 'etag': 'CyJOm4sGTdgO3lE7MovTwcRHuBA', 'pageInfo': {'totalResults': 1, 'resultsPerPage': 5}, 'items': [{'kind': 'youtube#channel', 'etag': 'qrRtuSN673A8dj8Dr2Q3RxYb9YU', 'id': 'UCCezIgC97PvUuR4_gbFUs5g', 'contentDetails': {'relatedPlaylists': {'likes': '', 'uploads': 'UUCezIgC97PvUuR4_gbFUs5g'}}, 'statistics': {'viewCount': '73461867', 'subscriberCount': '934000', 'hiddenSubscriberCount': False, 'videoCount': '230'}}]}\n"
     ]
    }
   ],
   "source": [
    "request = youtube.channels().list(\n",
    "            part = 'contentDetails, statistics',\n",
    "            forUsername = 'schafer5'\n",
    ")\n",
    "\n",
    "response = request.execute()\n",
    "print(response)"
   ]
  },
  {
   "cell_type": "markdown",
   "id": "3bfd230f-a925-4937-beb2-347cc05d65fb",
   "metadata": {},
   "source": [
    "#### Listing first 5 playlists of the channel"
   ]
  },
  {
   "cell_type": "code",
   "execution_count": 10,
   "id": "d48a34d8-07e7-4588-b426-dabce78a20c1",
   "metadata": {},
   "outputs": [
    {
     "name": "stdout",
     "output_type": "stream",
     "text": [
      "{'kind': 'youtube#playlist', 'etag': 'qIdd8wCVgQOMhzTyggaBTFhGnvk', 'id': 'PL-osiE80TeTsWmV9i9c58mdDCSskIFdDS', 'snippet': {'publishedAt': '2020-01-08T16:44:09Z', 'channelId': 'UCCezIgC97PvUuR4_gbFUs5g', 'title': 'Pandas Tutorials', 'description': '', 'thumbnails': {'default': {'url': 'https://i.ytimg.com/vi/ZyhVh-qRZPA/default.jpg', 'width': 120, 'height': 90}, 'medium': {'url': 'https://i.ytimg.com/vi/ZyhVh-qRZPA/mqdefault.jpg', 'width': 320, 'height': 180}, 'high': {'url': 'https://i.ytimg.com/vi/ZyhVh-qRZPA/hqdefault.jpg', 'width': 480, 'height': 360}, 'standard': {'url': 'https://i.ytimg.com/vi/ZyhVh-qRZPA/sddefault.jpg', 'width': 640, 'height': 480}, 'maxres': {'url': 'https://i.ytimg.com/vi/ZyhVh-qRZPA/maxresdefault.jpg', 'width': 1280, 'height': 720}}, 'channelTitle': 'Corey Schafer', 'localized': {'title': 'Pandas Tutorials', 'description': ''}}, 'contentDetails': {'itemCount': 11}}\n",
      "\n",
      "{'kind': 'youtube#playlist', 'etag': 'Zob8gLvnNo6qswxisYTrwVTRMR0', 'id': 'PL-osiE80TeTvipOqomVEeZ1HRrcEvtZB_', 'snippet': {'publishedAt': '2019-06-09T05:10:34Z', 'channelId': 'UCCezIgC97PvUuR4_gbFUs5g', 'title': 'Matplotlib Tutorials', 'description': 'In this Python Programming series, we will be learning how to use the Matplotlib library. Matplotlib allows us to create some great looking plots in order to visualize our data in easy to digest formats. This series covers a wide variety of topics such as: customizing our plots, different plot types, plotting live data in real-time, and more.', 'thumbnails': {'default': {'url': 'https://i.ytimg.com/vi/UO98lJQ3QGI/default.jpg', 'width': 120, 'height': 90}, 'medium': {'url': 'https://i.ytimg.com/vi/UO98lJQ3QGI/mqdefault.jpg', 'width': 320, 'height': 180}, 'high': {'url': 'https://i.ytimg.com/vi/UO98lJQ3QGI/hqdefault.jpg', 'width': 480, 'height': 360}, 'standard': {'url': 'https://i.ytimg.com/vi/UO98lJQ3QGI/sddefault.jpg', 'width': 640, 'height': 480}, 'maxres': {'url': 'https://i.ytimg.com/vi/UO98lJQ3QGI/maxresdefault.jpg', 'width': 1280, 'height': 720}}, 'channelTitle': 'Corey Schafer', 'localized': {'title': 'Matplotlib Tutorials', 'description': 'In this Python Programming series, we will be learning how to use the Matplotlib library. Matplotlib allows us to create some great looking plots in order to visualize our data in easy to digest formats. This series covers a wide variety of topics such as: customizing our plots, different plot types, plotting live data in real-time, and more.'}}, 'contentDetails': {'itemCount': 10}}\n",
      "\n",
      "{'kind': 'youtube#playlist', 'etag': 'rC_KfGHXudXqRP45ytkwXlGrHF4', 'id': 'PL-osiE80TeTtoQCKZ03TU5fNfx2UY6U4p', 'snippet': {'publishedAt': '2018-08-31T15:12:54Z', 'channelId': 'UCCezIgC97PvUuR4_gbFUs5g', 'title': 'Django Tutorials', 'description': 'Python Django Tutorials. In this series, we will be learning how to build a full-featured Django application for scratch. We will learn how to get started with Django, use templates, create a database, upload pictures, create an authentication system, and much much more.', 'thumbnails': {'default': {'url': 'https://i.ytimg.com/vi/UmljXZIypDc/default.jpg', 'width': 120, 'height': 90}, 'medium': {'url': 'https://i.ytimg.com/vi/UmljXZIypDc/mqdefault.jpg', 'width': 320, 'height': 180}, 'high': {'url': 'https://i.ytimg.com/vi/UmljXZIypDc/hqdefault.jpg', 'width': 480, 'height': 360}, 'standard': {'url': 'https://i.ytimg.com/vi/UmljXZIypDc/sddefault.jpg', 'width': 640, 'height': 480}, 'maxres': {'url': 'https://i.ytimg.com/vi/UmljXZIypDc/maxresdefault.jpg', 'width': 1280, 'height': 720}}, 'channelTitle': 'Corey Schafer', 'localized': {'title': 'Django Tutorials', 'description': 'Python Django Tutorials. In this series, we will be learning how to build a full-featured Django application for scratch. We will learn how to get started with Django, use templates, create a database, upload pictures, create an authentication system, and much much more.'}}, 'contentDetails': {'itemCount': 17}}\n",
      "\n",
      "{'kind': 'youtube#playlist', 'etag': '_i8f_UrY96dAfQyObatbT0jRgX0', 'id': 'PL-osiE80TeTs4UjLw5MM6OjgkjFeUxCYH', 'snippet': {'publishedAt': '2018-05-04T17:14:53Z', 'channelId': 'UCCezIgC97PvUuR4_gbFUs5g', 'title': 'Flask Tutorials', 'description': 'Python Flask Tutorials. In this series, we will be learning how to build a full-feature Flask application for scratch. We will learn how to get started with Flask, use templates, create a database, upload pictures, create an authentication system, and much much more.', 'thumbnails': {'default': {'url': 'https://i.ytimg.com/vi/MwZwr5Tvyxo/default.jpg', 'width': 120, 'height': 90}, 'medium': {'url': 'https://i.ytimg.com/vi/MwZwr5Tvyxo/mqdefault.jpg', 'width': 320, 'height': 180}, 'high': {'url': 'https://i.ytimg.com/vi/MwZwr5Tvyxo/hqdefault.jpg', 'width': 480, 'height': 360}, 'standard': {'url': 'https://i.ytimg.com/vi/MwZwr5Tvyxo/sddefault.jpg', 'width': 640, 'height': 480}, 'maxres': {'url': 'https://i.ytimg.com/vi/MwZwr5Tvyxo/maxresdefault.jpg', 'width': 1280, 'height': 720}}, 'channelTitle': 'Corey Schafer', 'localized': {'title': 'Flask Tutorials', 'description': 'Python Flask Tutorials. In this series, we will be learning how to build a full-feature Flask application for scratch. We will learn how to get started with Flask, use templates, create a database, upload pictures, create an authentication system, and much much more.'}}, 'contentDetails': {'itemCount': 15}}\n",
      "\n",
      "{'kind': 'youtube#playlist', 'etag': 'GrKeOKQ4V6BkNT2v1G_Y-WJfpHY', 'id': 'PL-osiE80TeTvviVL0pJGX5mZCo7CAvIuf', 'snippet': {'publishedAt': '2017-09-19T03:37:08Z', 'channelId': 'UCCezIgC97PvUuR4_gbFUs5g', 'title': 'Career Advice', 'description': 'Career Advice for Programmers, Developers, and Software Engineers.', 'thumbnails': {'default': {'url': 'https://i.ytimg.com/vi/TtIJEQ6D9DE/default.jpg', 'width': 120, 'height': 90}, 'medium': {'url': 'https://i.ytimg.com/vi/TtIJEQ6D9DE/mqdefault.jpg', 'width': 320, 'height': 180}, 'high': {'url': 'https://i.ytimg.com/vi/TtIJEQ6D9DE/hqdefault.jpg', 'width': 480, 'height': 360}, 'standard': {'url': 'https://i.ytimg.com/vi/TtIJEQ6D9DE/sddefault.jpg', 'width': 640, 'height': 480}, 'maxres': {'url': 'https://i.ytimg.com/vi/TtIJEQ6D9DE/maxresdefault.jpg', 'width': 1280, 'height': 720}}, 'channelTitle': 'Corey Schafer', 'localized': {'title': 'Career Advice', 'description': 'Career Advice for Programmers, Developers, and Software Engineers.'}}, 'contentDetails': {'itemCount': 6}}\n",
      "\n"
     ]
    }
   ],
   "source": [
    "pl_request = youtube.playlists().list(\n",
    "            part = 'contentDetails, snippet',\n",
    "            channelId = 'UCCezIgC97PvUuR4_gbFUs5g'\n",
    ")\n",
    "\n",
    "pl_response = pl_request.execute()\n",
    "for item in pl_response['items']:\n",
    "    print(item)\n",
    "    print()"
   ]
  },
  {
   "cell_type": "markdown",
   "id": "cc985f40-89f4-4b86-bc37-dadd181e8c64",
   "metadata": {},
   "source": [
    "#### Getting video ids of first 5 videos in a particular playlist"
   ]
  },
  {
   "cell_type": "code",
   "execution_count": 57,
   "id": "9a6e6787-16dc-4b6b-bc11-71fd626949de",
   "metadata": {},
   "outputs": [
    {
     "data": {
      "text/plain": [
       "['ZyhVh-qRZPA', 'zmdjNSmRXF4', 'W9XjRYFkkyw', 'Lw2rlcxScZY', 'DCDe29sIKcE']"
      ]
     },
     "execution_count": 57,
     "metadata": {},
     "output_type": "execute_result"
    }
   ],
   "source": [
    "pl_request2 = youtube.playlistItems().list(\n",
    "            part = 'contentDetails',\n",
    "            playlistId = 'PL-osiE80TeTsWmV9i9c58mdDCSskIFdDS'\n",
    ")\n",
    "\n",
    "vid_ids = []\n",
    "pl_response2 = pl_request2.execute()\n",
    "for item in pl_response2['items']:\n",
    "    vid_ids.append(item['contentDetails']['videoId'])\n",
    "\n",
    "vid_ids"
   ]
  },
  {
   "cell_type": "markdown",
   "id": "4d609359-1463-4017-b665-af7596e09457",
   "metadata": {},
   "source": [
    "#### Creating a string out of list of video ids"
   ]
  },
  {
   "cell_type": "code",
   "execution_count": 58,
   "id": "6c2a606e-bbc9-44bb-aa01-66170ace4539",
   "metadata": {},
   "outputs": [
    {
     "data": {
      "text/plain": [
       "'ZyhVh-qRZPA,zmdjNSmRXF4,W9XjRYFkkyw,Lw2rlcxScZY,DCDe29sIKcE'"
      ]
     },
     "execution_count": 58,
     "metadata": {},
     "output_type": "execute_result"
    }
   ],
   "source": [
    "','.join(vid_ids)"
   ]
  },
  {
   "cell_type": "markdown",
   "id": "f2c60ed7-a3b6-43c3-b72c-f1fa8c024c9a",
   "metadata": {},
   "source": [
    "#### Extracting playtime of each video"
   ]
  },
  {
   "cell_type": "code",
   "execution_count": 59,
   "id": "77231dc2-fee3-4ac3-b87d-45daee83d896",
   "metadata": {},
   "outputs": [
    {
     "name": "stdout",
     "output_type": "stream",
     "text": [
      "PT23M1S\n",
      "\n",
      "PT33M35S\n",
      "\n",
      "PT17M27S\n",
      "\n",
      "PT23M4S\n",
      "\n",
      "PT40M3S\n",
      "\n"
     ]
    }
   ],
   "source": [
    "vid_request = youtube.videos().list(\n",
    "            part = 'contentDetails',\n",
    "            id = ','.join(vid_ids)\n",
    ")\n",
    "\n",
    "vid_response = vid_request.execute()\n",
    "\n",
    "for item in vid_response['items']:\n",
    "    duration = item['contentDetails']['duration']\n",
    "    print(duration)\n",
    "    print()\n",
    "    \n",
    "# The playtime thus extracted is in the format PT(Minutes)M(Seconds)S."
   ]
  },
  {
   "cell_type": "markdown",
   "id": "363dbb44-f9e0-4336-b6df-26e93ebf3e03",
   "metadata": {},
   "source": [
    "#### Parsing hours, minutes and seconds from the PT(Minutes)M(Seconds)S format using re package"
   ]
  },
  {
   "cell_type": "code",
   "execution_count": 29,
   "id": "2df19cde-bc03-46ad-9d28-81552c59fd6e",
   "metadata": {},
   "outputs": [],
   "source": [
    "hours_pattern = re.compile(r'(\\d+)H')\n",
    "minutes_pattern = re.compile(r'(\\d+)M')\n",
    "seconds_pattern = re.compile(r'(\\d+)S')"
   ]
  },
  {
   "cell_type": "code",
   "execution_count": null,
   "id": "7d50bff3-da79-42f1-ae4e-8c70070b6e6e",
   "metadata": {},
   "outputs": [],
   "source": []
  },
  {
   "cell_type": "code",
   "execution_count": 61,
   "id": "645387d4-b4ad-4d4a-8351-598c53c8bd20",
   "metadata": {},
   "outputs": [
    {
     "name": "stdout",
     "output_type": "stream",
     "text": [
      "None <re.Match object; span=(2, 5), match='23M'> <re.Match object; span=(5, 7), match='1S'>\n",
      "\n",
      "None <re.Match object; span=(2, 5), match='33M'> <re.Match object; span=(5, 8), match='35S'>\n",
      "\n",
      "None <re.Match object; span=(2, 5), match='17M'> <re.Match object; span=(5, 8), match='27S'>\n",
      "\n",
      "None <re.Match object; span=(2, 5), match='23M'> <re.Match object; span=(5, 7), match='4S'>\n",
      "\n",
      "None <re.Match object; span=(2, 5), match='40M'> <re.Match object; span=(5, 7), match='3S'>\n",
      "\n"
     ]
    }
   ],
   "source": [
    "for item in vid_response['items']:\n",
    "    duration = item['contentDetails']['duration']\n",
    "    \n",
    "    hours = hours_pattern.search(duration)\n",
    "    minutes = minutes_pattern.search(duration)\n",
    "    seconds = seconds_pattern.search(duration)\n",
    "    \n",
    "    print(hours, minutes, seconds)\n",
    "    print()\n",
    "    \n",
    "#It return None for hours as there is no hour info for any video. However, we get minutes and seconds parsed."
   ]
  },
  {
   "cell_type": "markdown",
   "id": "94fb805d-ecff-4ac6-b2aa-7c3b334978ff",
   "metadata": {},
   "source": [
    "#### Extracting numerice values from minutes and seconds and also converting them into int type"
   ]
  },
  {
   "cell_type": "code",
   "execution_count": 34,
   "id": "8e256854-dbbf-416b-940e-182c1efc841e",
   "metadata": {},
   "outputs": [
    {
     "name": "stdout",
     "output_type": "stream",
     "text": [
      "0 23 1\n",
      "\n",
      "0 33 35\n",
      "\n",
      "0 17 27\n",
      "\n",
      "0 23 4\n",
      "\n",
      "0 40 3\n",
      "\n"
     ]
    }
   ],
   "source": [
    "for item in vid_response['items']:\n",
    "    duration = item['contentDetails']['duration']\n",
    "    \n",
    "    hours = hours_pattern.search(duration)\n",
    "    minutes = minutes_pattern.search(duration)\n",
    "    seconds = seconds_pattern.search(duration)\n",
    "    \n",
    "    hours = int(hours.group(1)) if hours else 0\n",
    "    minutes = int(minutes.group(1)) if minutes else 0\n",
    "    seconds = int(seconds.group(1)) if seconds else 0\n",
    "    \n",
    "    print(hours, minutes, seconds)\n",
    "    print()"
   ]
  },
  {
   "cell_type": "markdown",
   "id": "046099c1-1224-4a6b-a1f9-1dc9bcebd829",
   "metadata": {},
   "source": [
    "#### Using timedelta method of datetime module, calculating total duration of each video in seconds."
   ]
  },
  {
   "cell_type": "code",
   "execution_count": 36,
   "id": "f1b70d38-58c1-4fbf-8852-f9b978d4a659",
   "metadata": {},
   "outputs": [
    {
     "name": "stdout",
     "output_type": "stream",
     "text": [
      "1381.0\n",
      "\n",
      "2015.0\n",
      "\n",
      "1047.0\n",
      "\n",
      "1384.0\n",
      "\n",
      "2403.0\n",
      "\n"
     ]
    }
   ],
   "source": [
    "for item in vid_response['items']:\n",
    "    duration = item['contentDetails']['duration']\n",
    "    \n",
    "    hours = hours_pattern.search(duration)\n",
    "    minutes = minutes_pattern.search(duration)\n",
    "    seconds = seconds_pattern.search(duration)\n",
    "    \n",
    "    hours = int(hours.group(1)) if hours else 0\n",
    "    minutes = int(minutes.group(1)) if minutes else 0\n",
    "    seconds = int(seconds.group(1)) if seconds else 0\n",
    "    \n",
    "    video_seconds = timedelta(\n",
    "                    hours = hours,\n",
    "                    minutes = minutes,\n",
    "                    seconds = seconds\n",
    "                    ).total_seconds()\n",
    "\n",
    "    \n",
    "    print(video_seconds)\n",
    "    print()"
   ]
  },
  {
   "cell_type": "markdown",
   "id": "8c92472e-f82c-44df-8a90-477170db8365",
   "metadata": {},
   "source": [
    "#### The combined python script to calculate total duration of any playlist of a channel"
   ]
  },
  {
   "cell_type": "code",
   "execution_count": 64,
   "id": "44a2dc7f-1c87-4a8f-b991-9bae75cff97d",
   "metadata": {},
   "outputs": [
    {
     "name": "stdout",
     "output_type": "stream",
     "text": [
      "Pandas Playlist of Corey Schafer's Channel is 5:19:11 long!\n"
     ]
    }
   ],
   "source": [
    "hours_pattern = re.compile(r'(\\d+)H')\n",
    "minutes_pattern = re.compile(r'(\\d+)M')\n",
    "seconds_pattern = re.compile(r'(\\d+)S')\n",
    "\n",
    "total_seconds = 0 #total duration of playlist is set as 0 initially.\n",
    "\n",
    "nextPageToken = None #page token is set to none, which means the first page of the playlist\n",
    "\n",
    "# A while loop until all the videos from various pages of a playlist is looped for individual video duration.\n",
    "while True:\n",
    "\n",
    "# This API request will extract contents of all the videos from all the pages of a playlist\n",
    "    pl_request2 = youtube.playlistItems().list(\n",
    "                part = 'contentDetails',\n",
    "                playlistId = 'PL-osiE80TeTsWmV9i9c58mdDCSskIFdDS',\n",
    "                maxResults = 50,\n",
    "                pageToken = nextPageToken\n",
    "                )\n",
    "\n",
    "# This API request will fetch video ids from each results of playlist items in the form of list.\n",
    "    vid_ids = []\n",
    "    pl_response2 = pl_request2.execute()\n",
    "    for item in pl_response2['items']:\n",
    "        vid_ids.append(item['contentDetails']['videoId'])\n",
    "\n",
    "# Extracting contents of each video id\n",
    "\n",
    "    vid_request = youtube.videos().list(\n",
    "                part = 'contentDetails',\n",
    "                id = ','.join(vid_ids)\n",
    "    )\n",
    "\n",
    "    vid_response = vid_request.execute()\n",
    "    \n",
    "    # Looping over each video's contents to extract time duration.\n",
    "\n",
    "    for item in vid_response['items']:\n",
    "        duration = item['contentDetails']['duration']\n",
    "\n",
    "        #Applyting re pattern defined earlier on each time duration extracted\n",
    "        \n",
    "        hours = hours_pattern.search(duration)\n",
    "        minutes = minutes_pattern.search(duration)\n",
    "        seconds = seconds_pattern.search(duration)\n",
    "\n",
    "        #Extracting numeric values of hours, minutes and seconds and also taking care of error if none.\n",
    "        \n",
    "        hours = int(hours.group(1)) if hours else 0\n",
    "        minutes = int(minutes.group(1)) if minutes else 0\n",
    "        seconds = int(seconds.group(1)) if seconds else 0\n",
    "\n",
    "        # Converting hours, minutes and seconds of each video's time duration into seconds.\n",
    "        \n",
    "        video_seconds = timedelta(\n",
    "                        hours = hours,\n",
    "                        minutes = minutes,\n",
    "                        seconds = seconds\n",
    "                        ).total_seconds()\n",
    "        \n",
    "        # Adding each video's time duration in seconds to total_seconds variable defined earlier.\n",
    "        total_seconds += video_seconds\n",
    "    \n",
    "    # This makes sure that the loop ends when the script exhausts every pages of the playlist\n",
    "    nextPageToken = pl_response2.get(nextPageToken)\n",
    "    \n",
    "    if not nextPageToken:\n",
    "        break\n",
    "\n",
    "#Converting total_seconds into int type\n",
    "total_seconds = int(total_seconds)\n",
    "\n",
    "#Extracting hours, minutes and seconds value of the total duration of the playlist\n",
    "minutes, seconds = divmod(total_seconds,60)\n",
    "hours, minutes = divmod(minutes,60)\n",
    "\n",
    "print(f\"Pandas Playlist of Corey Schafer's Channel is {hours}:{minutes}:{seconds} long!\")"
   ]
  },
  {
   "cell_type": "code",
   "execution_count": null,
   "id": "ef6cf22d-b5a6-4c76-b0c9-9df95ecc5d61",
   "metadata": {},
   "outputs": [],
   "source": []
  }
 ],
 "metadata": {
  "kernelspec": {
   "display_name": "Python 3 (ipykernel)",
   "language": "python",
   "name": "python3"
  },
  "language_info": {
   "codemirror_mode": {
    "name": "ipython",
    "version": 3
   },
   "file_extension": ".py",
   "mimetype": "text/x-python",
   "name": "python",
   "nbconvert_exporter": "python",
   "pygments_lexer": "ipython3",
   "version": "3.9.7"
  }
 },
 "nbformat": 4,
 "nbformat_minor": 5
}
